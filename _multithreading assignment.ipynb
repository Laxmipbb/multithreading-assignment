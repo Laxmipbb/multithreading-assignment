{
 "cells": [
  {
   "cell_type": "code",
   "execution_count": 2,
   "id": "631cb703-2fa4-4332-9ae8-c4a34032f4e6",
   "metadata": {},
   "outputs": [
    {
     "data": {
      "text/plain": [
       "' Multithreading is a technique in python programming to run multiple threads concurrently by rapidly switching betwwen threads with a CPU help.\\n\\nIt is be used because it allows threads to communicate and share resources such as files , data , and memory to the same process.\\nMultithreading allows the programmer to divide application tasks into sub-tasks and simultaneously run them in a program.\\n\\nThere are two main modules of multithreading used to handle threads in python.\\n1. The thread module.\\n2. The threading module.'"
      ]
     },
     "execution_count": 2,
     "metadata": {},
     "output_type": "execute_result"
    }
   ],
   "source": [
    "\"\"\" Multithreading is a technique in python programming to run multiple threads concurrently by rapidly switching betwwen threads with a CPU help.\n",
    "\n",
    "It is be used because it allows threads to communicate and share resources such as files , data , and memory to the same process.\n",
    "Multithreading allows the programmer to divide application tasks into sub-tasks and simultaneously run them in a program.\n",
    "\n",
    "There are two main modules of multithreading used to handle threads in python.\n",
    "1. The thread module.\n",
    "2. The threading module.\"\"\""
   ]
  },
  {
   "cell_type": "code",
   "execution_count": 3,
   "id": "57328bcd-0486-42c8-bd26-8128f0619bdf",
   "metadata": {},
   "outputs": [
    {
     "data": {
      "text/plain": [
       "\"Threading module is used because it is a high-level implementataion of multithreading used to deploy an application in python.\\nSyntax : import threading\\n\\n(1) activeCount() :- Returns the number of thread objects that are active .\\n(2) currentThread() :- Returns the number of thread objects in the caller's thread control.\\n(3) enumerate() :- Adds counter to an iterable and returns it.\""
      ]
     },
     "execution_count": 3,
     "metadata": {},
     "output_type": "execute_result"
    }
   ],
   "source": [
    "\"\"\"Threading module is used because it is a high-level implementataion of multithreading used to deploy an application in python.\n",
    "Syntax : import threading\n",
    "\n",
    "(1) activeCount() :- Returns the number of thread objects that are active .\n",
    "(2) currentThread() :- Returns the number of thread objects in the caller's thread control.\n",
    "(3) enumerate() :- Adds counter to an iterable and returns it.\"\"\""
   ]
  },
  {
   "cell_type": "code",
   "execution_count": 1,
   "id": "20e9c15e-0595-4684-a017-cb76665a97f2",
   "metadata": {},
   "outputs": [
    {
     "data": {
      "text/plain": [
       "'Run() - It is an inbuilt methods of the thread class of the threading module in python.\\nIt calls the method expressed as the target argument in the thread object along with the positional and keyword arguments taken from the args and kwargs argument.\\nThis method can also be overridden in the subclass.\\n\\nStart() - It is an inbuilt method of the thread class of the threading module in python.\\nThis method calls the run()method internally which then executes the target method.\\nThis method must be called at most one time for one thread .\\nIf it is called more than once ,it rises a run the program.\\n\\njoin() - This method takes all items in an iterable and join them into one string.\\n         A string must be specified as the separator.\\n         \\nIsAlive() - It is an inbulit method of the thread class of the threading module in python.\\nIt uses a thread object and checks weather that thread is alive or not .'"
      ]
     },
     "execution_count": 1,
     "metadata": {},
     "output_type": "execute_result"
    }
   ],
   "source": [
    "\"\"\"Run() - It is an inbuilt methods of the thread class of the threading module in python.\n",
    "It calls the method expressed as the target argument in the thread object along with the positional and keyword arguments taken from the args and kwargs argument.\n",
    "This method can also be overridden in the subclass.\n",
    "\n",
    "Start() - It is an inbuilt method of the thread class of the threading module in python.\n",
    "This method calls the run()method internally which then executes the target method.\n",
    "This method must be called at most one time for one thread .\n",
    "If it is called more than once ,it rises a run the program.\n",
    "\n",
    "join() - This method takes all items in an iterable and join them into one string.\n",
    "         A string must be specified as the separator.\n",
    "         \n",
    "IsAlive() - It is an inbulit method of the thread class of the threading module in python.\n",
    "It uses a thread object and checks weather that thread is alive or not .\"\"\""
   ]
  },
  {
   "cell_type": "code",
   "execution_count": 4,
   "id": "52a70625-98ef-4e2f-9e46-218f0f2123f6",
   "metadata": {},
   "outputs": [],
   "source": [
    " t = \"time\""
   ]
  },
  {
   "cell_type": "code",
   "execution_count": 19,
   "id": "ba967304-4acb-48f1-a69b-56de8d59a863",
   "metadata": {},
   "outputs": [],
   "source": [
    "import threading\n",
    "\n",
    "def test(time):\n",
    "\n",
    "    square_thread = threading.Thread(target = calc_square ,args = (numbers,))\n",
    "    cube_thread = threading.Thread(target = calc_cube , args = (numbers,))\n",
    "\n",
    "    square_thread.start()\n",
    "    cube_thread.start()\n",
    "\n",
    "    squre_thread.join()\n",
    "    cube_thread.join()\n",
    "\n",
    "    end = time.time()\n",
    "\n",
    "    print('Execution Time: {}' .format(end_start))\n",
    "                                                            "
   ]
  },
  {
   "cell_type": "code",
   "execution_count": 11,
   "id": "d411b79b-f4e4-487b-9d54-693ef961d42a",
   "metadata": {},
   "outputs": [
    {
     "data": {
      "text/plain": [
       "'Advantages of multithreading -(1) improved performance and concurrency.\\n                                  (2) simplified coding of remote procedure calls and conversations.\\n                                  (3) reduces number of required servers.\\n                                  \\n  Disadvantages of multithreading -(1)difficulty of writing code.\\n                                    (2) difficulty of debugging.\\n                                    (3) difficulty of testing.'"
      ]
     },
     "execution_count": 11,
     "metadata": {},
     "output_type": "execute_result"
    }
   ],
   "source": [
    "\"\"\"Advantages of multithreading -(1) improved performance and concurrency.\n",
    "                                  (2) simplified coding of remote procedure calls and conversations.\n",
    "                                  (3) reduces number of required servers.\n",
    "                                  \n",
    "  Disadvantages of multithreading -(1)difficulty of writing code.\n",
    "                                    (2) difficulty of debugging.\n",
    "                                    (3) difficulty of testing.\"\"\""
   ]
  },
  {
   "cell_type": "code",
   "execution_count": 12,
   "id": "795b8262-bb6b-4d8a-98f0-d37755867896",
   "metadata": {},
   "outputs": [
    {
     "data": {
      "text/plain": [
       "' Race condition is when two processes are competing with each other causing data corruption .\\n    Race condition occurs when two threads access a shared variable at the same time.\\n    the first thread reads the variable and second thread reads the same value from the variable.\\n    \\n    Deadlock condition is when two threads each lock a different variable at the same time and then try to lock the variable that the other thread already locked.\\n    as a result , each thread stops executing and waits for the other threads to release the variable.'"
      ]
     },
     "execution_count": 12,
     "metadata": {},
     "output_type": "execute_result"
    }
   ],
   "source": [
    "\"\"\" Race condition is when two processes are competing with each other causing data corruption .\n",
    "    Race condition occurs when two threads access a shared variable at the same time.\n",
    "    the first thread reads the variable and second thread reads the same value from the variable.\n",
    "    \n",
    "    Deadlock condition is when two threads each lock a different variable at the same time and then try to lock the variable that the other thread already locked.\n",
    "    as a result , each thread stops executing and waits for the other threads to release the variable.\"\"\""
   ]
  },
  {
   "cell_type": "code",
   "execution_count": null,
   "id": "c882d9da-664b-4ed7-82ac-1e3f2bd9fd27",
   "metadata": {},
   "outputs": [],
   "source": []
  },
  {
   "cell_type": "code",
   "execution_count": null,
   "id": "029c99fa-6824-484e-8945-16fea2d56629",
   "metadata": {},
   "outputs": [],
   "source": []
  }
 ],
 "metadata": {
  "kernelspec": {
   "display_name": "Python 3 (ipykernel)",
   "language": "python",
   "name": "python3"
  },
  "language_info": {
   "codemirror_mode": {
    "name": "ipython",
    "version": 3
   },
   "file_extension": ".py",
   "mimetype": "text/x-python",
   "name": "python",
   "nbconvert_exporter": "python",
   "pygments_lexer": "ipython3",
   "version": "3.10.8"
  }
 },
 "nbformat": 4,
 "nbformat_minor": 5
}
